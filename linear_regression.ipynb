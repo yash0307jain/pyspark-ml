{
 "cells": [
  {
   "cell_type": "markdown",
   "id": "2099932d-f7ad-482a-b44b-2cd02d3d1569",
   "metadata": {},
   "source": [
    "# Creating the pyspark session"
   ]
  },
  {
   "cell_type": "code",
   "execution_count": 1,
   "id": "808561d3-f824-4db8-919e-865b28a6a72f",
   "metadata": {},
   "outputs": [],
   "source": [
    "from pyspark.sql import SparkSession"
   ]
  },
  {
   "cell_type": "code",
   "execution_count": 2,
   "id": "fc095892-3072-4662-a348-b6ebeb1aa69a",
   "metadata": {},
   "outputs": [
    {
     "name": "stderr",
     "output_type": "stream",
     "text": [
      "22/06/04 19:10:58 WARN Utils: Your hostname, Yashs-MacBook-Air.local resolves to a loopback address: 127.0.0.1; using 192.168.29.55 instead (on interface en0)\n",
      "22/06/04 19:10:58 WARN Utils: Set SPARK_LOCAL_IP if you need to bind to another address\n",
      "WARNING: An illegal reflective access operation has occurred\n",
      "WARNING: Illegal reflective access by org.apache.spark.unsafe.Platform (file:/Users/yashjain/Downloads/Development/tensorflow-env/env/lib/python3.9/site-packages/pyspark/jars/spark-unsafe_2.12-3.2.1.jar) to constructor java.nio.DirectByteBuffer(long,int)\n",
      "WARNING: Please consider reporting this to the maintainers of org.apache.spark.unsafe.Platform\n",
      "WARNING: Use --illegal-access=warn to enable warnings of further illegal reflective access operations\n",
      "WARNING: All illegal access operations will be denied in a future release\n",
      "Using Spark's default log4j profile: org/apache/spark/log4j-defaults.properties\n",
      "Setting default log level to \"WARN\".\n",
      "To adjust logging level use sc.setLogLevel(newLevel). For SparkR, use setLogLevel(newLevel).\n",
      "22/06/04 19:10:59 WARN NativeCodeLoader: Unable to load native-hadoop library for your platform... using builtin-java classes where applicable\n"
     ]
    }
   ],
   "source": [
    "spark = SparkSession.builder.master('local').appName('linear_regression').getOrCreate()"
   ]
  },
  {
   "cell_type": "markdown",
   "id": "89a33d54-ef80-4b74-8b76-165e3338ce8c",
   "metadata": {},
   "source": [
    "# Load the data"
   ]
  },
  {
   "cell_type": "code",
   "execution_count": 3,
   "id": "033b65a0-964c-4d69-8557-43af7256a191",
   "metadata": {},
   "outputs": [
    {
     "name": "stdout",
     "output_type": "stream",
     "text": [
      "+---+-------------------+------------+--------------------------------------+-------------------------------+-----------+------------+--------------------------+\n",
      "| No|X1 transaction date|X2 house age|X3 distance to the nearest MRT station|X4 number of convenience stores|X5 latitude|X6 longitude|Y house price of unit area|\n",
      "+---+-------------------+------------+--------------------------------------+-------------------------------+-----------+------------+--------------------------+\n",
      "|  1|           2012.917|        32.0|                              84.87882|                             10|   24.98298|   121.54024|                      37.9|\n",
      "|  2|           2012.917|        19.5|                              306.5947|                              9|   24.98034|   121.53951|                      42.2|\n",
      "|  3|           2013.583|        13.3|                              561.9845|                              5|   24.98746|   121.54391|                      47.3|\n",
      "|  4|             2013.5|        13.3|                              561.9845|                              5|   24.98746|   121.54391|                      54.8|\n",
      "|  5|           2012.833|         5.0|                              390.5684|                              5|   24.97937|   121.54245|                      43.1|\n",
      "+---+-------------------+------------+--------------------------------------+-------------------------------+-----------+------------+--------------------------+\n",
      "only showing top 5 rows\n",
      "\n"
     ]
    }
   ],
   "source": [
    "data = spark.read.csv('data/real_estate.csv', inferSchema=True, header=True)\n",
    "data.show(5)"
   ]
  },
  {
   "cell_type": "code",
   "execution_count": 4,
   "id": "5bf6577c-817d-49c4-9174-3c37b898c0ff",
   "metadata": {},
   "outputs": [
    {
     "name": "stdout",
     "output_type": "stream",
     "text": [
      "root\n",
      " |-- No: integer (nullable = true)\n",
      " |-- X1 transaction date: double (nullable = true)\n",
      " |-- X2 house age: double (nullable = true)\n",
      " |-- X3 distance to the nearest MRT station: double (nullable = true)\n",
      " |-- X4 number of convenience stores: integer (nullable = true)\n",
      " |-- X5 latitude: double (nullable = true)\n",
      " |-- X6 longitude: double (nullable = true)\n",
      " |-- Y house price of unit area: double (nullable = true)\n",
      "\n"
     ]
    }
   ],
   "source": [
    "data.printSchema()"
   ]
  },
  {
   "cell_type": "code",
   "execution_count": 5,
   "id": "13aaa9c3-e164-427a-a100-55c9da568cde",
   "metadata": {},
   "outputs": [
    {
     "data": {
      "text/html": [
       "<div>\n",
       "<style scoped>\n",
       "    .dataframe tbody tr th:only-of-type {\n",
       "        vertical-align: middle;\n",
       "    }\n",
       "\n",
       "    .dataframe tbody tr th {\n",
       "        vertical-align: top;\n",
       "    }\n",
       "\n",
       "    .dataframe thead th {\n",
       "        text-align: right;\n",
       "    }\n",
       "</style>\n",
       "<table border=\"1\" class=\"dataframe\">\n",
       "  <thead>\n",
       "    <tr style=\"text-align: right;\">\n",
       "      <th></th>\n",
       "      <th>summary</th>\n",
       "      <th>No</th>\n",
       "      <th>X1 transaction date</th>\n",
       "      <th>X2 house age</th>\n",
       "      <th>X3 distance to the nearest MRT station</th>\n",
       "      <th>X4 number of convenience stores</th>\n",
       "      <th>X5 latitude</th>\n",
       "      <th>X6 longitude</th>\n",
       "      <th>Y house price of unit area</th>\n",
       "    </tr>\n",
       "  </thead>\n",
       "  <tbody>\n",
       "    <tr>\n",
       "      <th>0</th>\n",
       "      <td>count</td>\n",
       "      <td>414</td>\n",
       "      <td>414</td>\n",
       "      <td>414</td>\n",
       "      <td>414</td>\n",
       "      <td>414</td>\n",
       "      <td>414</td>\n",
       "      <td>414</td>\n",
       "      <td>414</td>\n",
       "    </tr>\n",
       "    <tr>\n",
       "      <th>1</th>\n",
       "      <td>mean</td>\n",
       "      <td>207.5</td>\n",
       "      <td>2013.1489710144933</td>\n",
       "      <td>17.71256038647343</td>\n",
       "      <td>1083.8856889130436</td>\n",
       "      <td>4.094202898550725</td>\n",
       "      <td>24.969030072463745</td>\n",
       "      <td>121.53336108695667</td>\n",
       "      <td>37.98019323671498</td>\n",
       "    </tr>\n",
       "    <tr>\n",
       "      <th>2</th>\n",
       "      <td>stddev</td>\n",
       "      <td>119.6557562342907</td>\n",
       "      <td>0.2819672402629999</td>\n",
       "      <td>11.392484533242524</td>\n",
       "      <td>1262.109595407851</td>\n",
       "      <td>2.9455618056636177</td>\n",
       "      <td>0.012410196590450208</td>\n",
       "      <td>0.015347183004592374</td>\n",
       "      <td>13.606487697735316</td>\n",
       "    </tr>\n",
       "    <tr>\n",
       "      <th>3</th>\n",
       "      <td>min</td>\n",
       "      <td>1</td>\n",
       "      <td>2012.667</td>\n",
       "      <td>0.0</td>\n",
       "      <td>23.38284</td>\n",
       "      <td>0</td>\n",
       "      <td>24.93207</td>\n",
       "      <td>121.47353</td>\n",
       "      <td>7.6</td>\n",
       "    </tr>\n",
       "    <tr>\n",
       "      <th>4</th>\n",
       "      <td>max</td>\n",
       "      <td>414</td>\n",
       "      <td>2013.583</td>\n",
       "      <td>43.8</td>\n",
       "      <td>6488.021</td>\n",
       "      <td>10</td>\n",
       "      <td>25.01459</td>\n",
       "      <td>121.56627</td>\n",
       "      <td>117.5</td>\n",
       "    </tr>\n",
       "  </tbody>\n",
       "</table>\n",
       "</div>"
      ],
      "text/plain": [
       "  summary                 No X1 transaction date        X2 house age  \\\n",
       "0   count                414                 414                 414   \n",
       "1    mean              207.5  2013.1489710144933   17.71256038647343   \n",
       "2  stddev  119.6557562342907  0.2819672402629999  11.392484533242524   \n",
       "3     min                  1            2012.667                 0.0   \n",
       "4     max                414            2013.583                43.8   \n",
       "\n",
       "  X3 distance to the nearest MRT station X4 number of convenience stores  \\\n",
       "0                                    414                             414   \n",
       "1                     1083.8856889130436               4.094202898550725   \n",
       "2                      1262.109595407851              2.9455618056636177   \n",
       "3                               23.38284                               0   \n",
       "4                               6488.021                              10   \n",
       "\n",
       "            X5 latitude          X6 longitude Y house price of unit area  \n",
       "0                   414                   414                        414  \n",
       "1    24.969030072463745    121.53336108695667          37.98019323671498  \n",
       "2  0.012410196590450208  0.015347183004592374         13.606487697735316  \n",
       "3              24.93207             121.47353                        7.6  \n",
       "4              25.01459             121.56627                      117.5  "
      ]
     },
     "execution_count": 5,
     "metadata": {},
     "output_type": "execute_result"
    }
   ],
   "source": [
    "data.describe().toPandas()"
   ]
  },
  {
   "cell_type": "code",
   "execution_count": 6,
   "id": "081556bc-669b-4aaf-b6a5-16a23cc4b17d",
   "metadata": {},
   "outputs": [
    {
     "data": {
      "text/plain": [
       "['No',\n",
       " 'X1 transaction date',\n",
       " 'X2 house age',\n",
       " 'X3 distance to the nearest MRT station',\n",
       " 'X4 number of convenience stores',\n",
       " 'X5 latitude',\n",
       " 'X6 longitude',\n",
       " 'Y house price of unit area']"
      ]
     },
     "execution_count": 6,
     "metadata": {},
     "output_type": "execute_result"
    }
   ],
   "source": [
    "data.columns"
   ]
  },
  {
   "cell_type": "markdown",
   "id": "857de6aa-3510-4611-97a9-69d91faefef0",
   "metadata": {},
   "source": [
    "# Combine feature into an array and name this column as features"
   ]
  },
  {
   "cell_type": "code",
   "execution_count": 7,
   "id": "7fa10685-1f4a-4f96-96e5-f9a17d0234c3",
   "metadata": {},
   "outputs": [],
   "source": [
    "from pyspark.ml.feature import VectorAssembler"
   ]
  },
  {
   "cell_type": "code",
   "execution_count": 8,
   "id": "68c5c4f9-9df2-44b8-8eb9-c73310e8cda7",
   "metadata": {},
   "outputs": [
    {
     "name": "stdout",
     "output_type": "stream",
     "text": [
      "+--------------------+--------------------------+\n",
      "|            features|Y house price of unit area|\n",
      "+--------------------+--------------------------+\n",
      "|[2012.917,32.0,84...|                      37.9|\n",
      "|[2012.917,19.5,30...|                      42.2|\n",
      "|[2013.583,13.3,56...|                      47.3|\n",
      "|[2013.5,13.3,561....|                      54.8|\n",
      "|[2012.833,5.0,390...|                      43.1|\n",
      "+--------------------+--------------------------+\n",
      "only showing top 5 rows\n",
      "\n"
     ]
    }
   ],
   "source": [
    "assembler = VectorAssembler(inputCols=[\n",
    "    'X1 transaction date',\n",
    "    'X2 house age',\n",
    "    'X3 distance to the nearest MRT station',\n",
    "    'X4 number of convenience stores',\n",
    "    'X5 latitude',\n",
    "    'X6 longitude'\n",
    "], outputCol='features')\n",
    "\n",
    "data_set = assembler.transform(data)\n",
    "data_set.select(['features', 'Y house price of unit area']).show(5)"
   ]
  },
  {
   "cell_type": "markdown",
   "id": "8abcfb54-3e14-430a-bc47-f57f4d5e8138",
   "metadata": {},
   "source": [
    "# Split the data into train and test"
   ]
  },
  {
   "cell_type": "code",
   "execution_count": 9,
   "id": "5ef20230-0ac1-4109-8ea5-3d15077b3431",
   "metadata": {},
   "outputs": [],
   "source": [
    "train_data, test_data = data_set.randomSplit([0.7, 0.3])"
   ]
  },
  {
   "cell_type": "code",
   "execution_count": 10,
   "id": "25cad0b1-0abf-41ee-b037-32664a44e3b1",
   "metadata": {},
   "outputs": [
    {
     "name": "stdout",
     "output_type": "stream",
     "text": [
      "+---+-------------------+------------+--------------------------------------+-------------------------------+-----------+------------+--------------------------+--------------------+\n",
      "| No|X1 transaction date|X2 house age|X3 distance to the nearest MRT station|X4 number of convenience stores|X5 latitude|X6 longitude|Y house price of unit area|            features|\n",
      "+---+-------------------+------------+--------------------------------------+-------------------------------+-----------+------------+--------------------------+--------------------+\n",
      "|  1|           2012.917|        32.0|                              84.87882|                             10|   24.98298|   121.54024|                      37.9|[2012.917,32.0,84...|\n",
      "|  2|           2012.917|        19.5|                              306.5947|                              9|   24.98034|   121.53951|                      42.2|[2012.917,19.5,30...|\n",
      "+---+-------------------+------------+--------------------------------------+-------------------------------+-----------+------------+--------------------------+--------------------+\n",
      "only showing top 2 rows\n",
      "\n",
      "+---+-------------------+------------+--------------------------------------+-------------------------------+-----------+------------+--------------------------+--------------------+\n",
      "| No|X1 transaction date|X2 house age|X3 distance to the nearest MRT station|X4 number of convenience stores|X5 latitude|X6 longitude|Y house price of unit area|            features|\n",
      "+---+-------------------+------------+--------------------------------------+-------------------------------+-----------+------------+--------------------------+--------------------+\n",
      "|  5|           2012.833|         5.0|                              390.5684|                              5|   24.97937|   121.54245|                      43.1|[2012.833,5.0,390...|\n",
      "|  6|           2012.667|         7.1|                               2175.03|                              3|   24.96305|   121.51254|                      32.1|[2012.667,7.1,217...|\n",
      "+---+-------------------+------------+--------------------------------------+-------------------------------+-----------+------------+--------------------------+--------------------+\n",
      "only showing top 2 rows\n",
      "\n"
     ]
    },
    {
     "data": {
      "text/plain": [
       "(None, None)"
      ]
     },
     "execution_count": 10,
     "metadata": {},
     "output_type": "execute_result"
    }
   ],
   "source": [
    "train_data.show(2), test_data.show(2)"
   ]
  },
  {
   "cell_type": "markdown",
   "id": "f414c3f7-fc47-4180-8c22-f7596c83d9b8",
   "metadata": {},
   "source": [
    "# Training the Linear Regression model"
   ]
  },
  {
   "cell_type": "code",
   "execution_count": 11,
   "id": "3f1ae03d-9201-4e1a-893e-cb6b8f9ffb1a",
   "metadata": {},
   "outputs": [
    {
     "name": "stderr",
     "output_type": "stream",
     "text": [
      "22/06/04 19:11:03 WARN Instrumentation: [2ee7d0b0] regParam is zero, which might cause numerical instability and overfitting.\n",
      "22/06/04 19:11:03 WARN InstanceBuilder$NativeBLAS: Failed to load implementation from:dev.ludovic.netlib.blas.JNIBLAS\n",
      "22/06/04 19:11:03 WARN InstanceBuilder$NativeBLAS: Failed to load implementation from:dev.ludovic.netlib.blas.ForeignLinkerBLAS\n",
      "22/06/04 19:11:03 WARN InstanceBuilder$NativeLAPACK: Failed to load implementation from:dev.ludovic.netlib.lapack.JNILAPACK\n"
     ]
    }
   ],
   "source": [
    "from pyspark.ml.regression import LinearRegression\n",
    "\n",
    "lr = LinearRegression(labelCol='Y house price of unit area')\n",
    "lrModel = lr.fit(train_data)"
   ]
  },
  {
   "cell_type": "markdown",
   "id": "25a21ea0-ad08-4eaa-93c0-fcef7db8c2da",
   "metadata": {},
   "source": [
    "# Predict"
   ]
  },
  {
   "cell_type": "code",
   "execution_count": 12,
   "id": "c50a63e6-88b5-4333-9864-4b48527760ae",
   "metadata": {},
   "outputs": [],
   "source": [
    "test_stats = lrModel.evaluate(test_data)"
   ]
  },
  {
   "cell_type": "markdown",
   "id": "7979bb5f-ef00-4460-a3bf-25e41252fce7",
   "metadata": {},
   "source": [
    "# Performance measurement"
   ]
  },
  {
   "cell_type": "code",
   "execution_count": 13,
   "id": "0c202e49-1380-4ba0-8d1e-6b599cc2ce30",
   "metadata": {},
   "outputs": [
    {
     "name": "stdout",
     "output_type": "stream",
     "text": [
      "RMSE: 8.555293620953073\n",
      "R2: 0.5967683479771075\n",
      "MSE: 73.19304894072033\n"
     ]
    }
   ],
   "source": [
    "print(f\"RMSE: {test_stats.rootMeanSquaredError}\")\n",
    "print(f\"R2: {test_stats.r2}\")\n",
    "print(f\"MSE: {test_stats.meanSquaredError}\")"
   ]
  }
 ],
 "metadata": {
  "kernelspec": {
   "display_name": "Python 3 (ipykernel)",
   "language": "python",
   "name": "python3"
  },
  "language_info": {
   "codemirror_mode": {
    "name": "ipython",
    "version": 3
   },
   "file_extension": ".py",
   "mimetype": "text/x-python",
   "name": "python",
   "nbconvert_exporter": "python",
   "pygments_lexer": "ipython3",
   "version": "3.9.7"
  }
 },
 "nbformat": 4,
 "nbformat_minor": 5
}
